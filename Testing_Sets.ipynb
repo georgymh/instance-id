{
 "cells": [
  {
   "cell_type": "markdown",
   "metadata": {},
   "source": [
    "# Pre-mining the Online Mining batches for Training"
   ]
  },
  {
   "cell_type": "code",
   "execution_count": 1,
   "metadata": {},
   "outputs": [],
   "source": [
    "import pickle\n",
    "from dataset.imagenetvid.curate_imagenet import make_training_pickle"
   ]
  },
  {
   "cell_type": "code",
   "execution_count": null,
   "metadata": {},
   "outputs": [
    {
     "name": "stdout",
     "output_type": "stream",
     "text": [
      "Loading training pickle...\n",
      "Batch #: 0\n",
      "Batch #: 10000\n",
      "Batch #: 20000\n",
      "Batch #: 30000\n",
      "Batch #: 40000\n",
      "Batch #: 50000\n",
      "Batch #: 60000\n",
      "Batch #: 70000\n",
      "Batch #: 80000\n"
     ]
    }
   ],
   "source": [
    "make_training_pickle(100000, 10, 4)"
   ]
  },
  {
   "cell_type": "code",
   "execution_count": null,
   "metadata": {},
   "outputs": [],
   "source": [
    "pkl_file = open('dataset/imagenetvid/train_set.pkl', 'rb')\n",
    "print(pickle.load(pkl_file))\n",
    "pkl_file.close()"
   ]
  },
  {
   "cell_type": "code",
   "execution_count": null,
   "metadata": {},
   "outputs": [],
   "source": [
    "import numpy as np\n",
    "import matplotlib.pyplot as plt\n",
    "\n",
    "pkl_file = open('dataset/imagenetvid/train_stats.pkl', 'rb')\n",
    "stats = pickle.load(pkl_file)\n",
    "pkl_file.close()\n",
    "\n",
    "counts = {}\n",
    "i = 0\n",
    "for k, v in stats.items():\n",
    "    counts[i] = v\n",
    "    i += 1\n",
    "    \n",
    "if len(counts) < 30:\n",
    "    print('missing some class!')\n",
    "\n",
    "labels, values = zip(*counts.items())\n",
    "\n",
    "indexes = np.arange(len(labels))\n",
    "width = 1\n",
    "\n",
    "plt.bar(indexes, values, width)\n",
    "plt.xticks(indexes + width * 0.5, labels)\n",
    "plt.show()"
   ]
  },
  {
   "cell_type": "code",
   "execution_count": null,
   "metadata": {},
   "outputs": [],
   "source": []
  },
  {
   "cell_type": "code",
   "execution_count": null,
   "metadata": {},
   "outputs": [],
   "source": []
  }
 ],
 "metadata": {
  "kernelspec": {
   "display_name": "Python 3",
   "language": "python",
   "name": "python3"
  },
  "language_info": {
   "codemirror_mode": {
    "name": "ipython",
    "version": 3
   },
   "file_extension": ".py",
   "mimetype": "text/x-python",
   "name": "python",
   "nbconvert_exporter": "python",
   "pygments_lexer": "ipython3",
   "version": "3.5.2"
  }
 },
 "nbformat": 4,
 "nbformat_minor": 2
}
