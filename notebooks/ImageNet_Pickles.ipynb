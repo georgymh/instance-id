{
 "cells": [
  {
   "cell_type": "markdown",
   "metadata": {},
   "source": [
    "## Training Stats Pickle"
   ]
  },
  {
   "cell_type": "code",
   "execution_count": 1,
   "metadata": {},
   "outputs": [],
   "source": [
    "\"\"\"Import from parent directory.\"\"\"\n",
    "import os\n",
    "import sys\n",
    "module_path = os.path.abspath(os.path.join('..'))\n",
    "if module_path not in sys.path: sys.path.append(module_path)"
   ]
  },
  {
   "cell_type": "code",
   "execution_count": 4,
   "metadata": {},
   "outputs": [],
   "source": [
    "import os\n",
    "import xmltodict\n",
    "import pickle\n",
    "\n",
    "TYPE = \"train\"\n",
    "ANNOTATIONS_PATH_STR = 'data/ILSVRC2015/Annotations/VID/'\n",
    "PICKLE_FPATH = 'dataset/imagenetvid/train_data_stats.pkl'\n",
    "\n",
    "\n",
    "if os.path.isfile(PICKLE_FPATH):\n",
    "    pkl_file = open(PICKLE_FPATH, 'rb')\n",
    "    stats = pickle.load(pkl_file)\n",
    "    paths = pickle.load(pkl_file)\n",
    "    pkl_file.close()\n",
    "else:  \n",
    "    paths = {\n",
    "        \"missing_bbox\": [],\n",
    "        \"multiple_bboxes\": [],\n",
    "        \"single_bboxes\": []\n",
    "    }\n",
    "    stats = {\n",
    "        \"missing_bbox\": 0,\n",
    "        \"multiple_bboxes\": 0,\n",
    "        \"single_bboxes\": 0\n",
    "    }\n",
    "    annotations_base_path = os.path.join(ANNOTATIONS_PATH_STR, TYPE)\n",
    "    for dir1 in os.listdir(annotations_base_path):\n",
    "        dir1 = os.path.join(annotations_base_path + \"/\" + dir1)\n",
    "        for snippet_path in os.listdir(dir1):\n",
    "            snippet_path = os.path.join(dir1 + \"/\" + snippet_path)\n",
    "\n",
    "            dict_obj = { snippet_path : [] }\n",
    "            counts = {\n",
    "                \"missing_bbox\": 0,\n",
    "                \"multiple_bboxes\": 0,\n",
    "                \"single_bboxes\": 0,\n",
    "                \"total\": 0\n",
    "            }\n",
    "\n",
    "            for f in os.listdir(snippet_path):\n",
    "                if f[-3:] != 'xml':\n",
    "                    continue\n",
    "                filepath = snippet_path + \"/\" + f\n",
    "                with open(filepath) as file:\n",
    "                    fobj = xmltodict.parse(file.read())\n",
    "\n",
    "                annotation = fobj['annotation']\n",
    "                if \"object\" not in annotation:\n",
    "                    # no bounding boxes\n",
    "                    counts[\"missing_bbox\"] += 1\n",
    "                    stats[\"missing_bbox\"] += 1\n",
    "                elif isinstance(annotation[\"object\"], list):\n",
    "                    # multiple objects in a frame\n",
    "                    counts[\"multiple_bboxes\"] += 1\n",
    "                    stats[\"multiple_bboxes\"] += 1\n",
    "                else:\n",
    "                    # single object in a frame\n",
    "                    counts[\"single_bboxes\"] += 1\n",
    "                    stats[\"single_bboxes\"] += 1\n",
    "                counts[\"total\"] += 1\n",
    "\n",
    "            if counts[\"missing_bbox\"] > counts[\"multiple_bboxes\"] and \\\n",
    "               counts[\"missing_bbox\"] > counts[\"single_bboxes\"]:\n",
    "                # missing_bbox -> discard\n",
    "                ratio = counts[\"missing_bbox\"] / counts[\"total\"]\n",
    "                paths[\"missing_bbox\"].append((snippet_path, ratio))\n",
    "            elif counts[\"multiple_bboxes\"] > counts[\"missing_bbox\"] and \\\n",
    "               counts[\"multiple_bboxes\"] > counts[\"single_bboxes\"]:\n",
    "                # multiple bboxes\n",
    "                ratio = counts[\"multiple_bboxes\"] / counts[\"total\"]\n",
    "                paths[\"multiple_bboxes\"].append((snippet_path, ratio))\n",
    "            else:\n",
    "                # single bbox\n",
    "                ratio = counts[\"single_bboxes\"] / counts[\"total\"]\n",
    "                paths[\"single_bboxes\"].append((snippet_path, ratio))\n",
    "                \n",
    "    paths['all'] = [e + ('single_bboxes',) for e in paths['single_bboxes']] + \\\n",
    "       [e + ('multiple_bboxes',) for e in paths['multiple_bboxes']] + \\\n",
    "       [e + ('missing_bbox',) for e in paths['missing_bbox']]\n",
    "    \n",
    "    paths['all_but_missing'] = [e + ('single_bboxes',) for e in paths['single_bboxes']] + \\\n",
    "       [e + ('multiple_bboxes',) for e in paths['multiple_bboxes']]\n",
    "    \n",
    "    # Save into Pickle         \n",
    "    output = open(PICKLE_FPATH, 'wb')\n",
    "    pickle.dump(stats, output, -1)\n",
    "    pickle.dump(paths, output, -1)\n",
    "    output.close()"
   ]
  },
  {
   "cell_type": "code",
   "execution_count": 5,
   "metadata": {},
   "outputs": [
    {
     "data": {
      "text/plain": [
       "{'missing_bbox': 36265, 'multiple_bboxes': 336219, 'single_bboxes': 749913}"
      ]
     },
     "execution_count": 5,
     "metadata": {},
     "output_type": "execute_result"
    }
   ],
   "source": [
    "stats"
   ]
  },
  {
   "cell_type": "code",
   "execution_count": 7,
   "metadata": {},
   "outputs": [
    {
     "name": "stdout",
     "output_type": "stream",
     "text": [
      "missing some class!\n",
      "Total of 5000000 objects\n"
     ]
    },
    {
     "data": {
      "image/png": "[encoded data removed]",
      "text/plain": [
       "<Figure size 648x432 with 1 Axes>"
      ]
     },
     "metadata": {},
     "output_type": "display_data"
    }
   ],
   "source": [
    "import numpy as np\n",
    "import matplotlib.pyplot as plt\n",
    "\n",
    "TRAIN_STATS_PKL = 'dataset/imagenetvid/train_stats.pkl'\n",
    "\n",
    "plt.rcParams[\"figure.figsize\"] = [9,6]\n",
    "\n",
    "pkl_file = open(TRAIN_STATS_PKL, 'rb')\n",
    "stats = pickle.load(pkl_file)\n",
    "pkl_file.close()\n",
    "\n",
    "counts = {}\n",
    "total = 0\n",
    "i = 0\n",
    "for k, v in stats.items():\n",
    "    counts[i] = v\n",
    "    total += v\n",
    "    i += 1\n",
    "    \n",
    "if len(counts) == 30:\n",
    "    print('missing some class!')\n",
    "print(\"Total of {0} objects\".format(total))\n",
    "\n",
    "labels, values = zip(*counts.items())\n",
    "\n",
    "indexes = np.arange(len(labels))\n",
    "width = 1\n",
    "\n",
    "plt.bar(indexes, values, width)\n",
    "plt.xticks(indexes + width * 0.5, labels)\n",
    "plt.show()"
   ]
  },
  {
   "cell_type": "markdown",
   "metadata": {},
   "source": [
    "## Testing Stats Pickle"
   ]
  },
  {
   "cell_type": "code",
   "execution_count": 2,
   "metadata": {},
   "outputs": [],
   "source": [
    "import os\n",
    "import xmltodict\n",
    "import pickle\n",
    "\n",
    "TYPE = \"val\"\n",
    "ANNOTATIONS_PATH_STR = 'data/ILSVRC2015/Annotations/VID/'\n",
    "PICKLE_FPATH = 'dataset/imagenetvid/val_data_stats.pkl'\n",
    "\n",
    "\n",
    "if os.path.isfile(PICKLE_FPATH):\n",
    "    pkl_file = open(PICKLE_FPATH, 'rb')\n",
    "    stats = pickle.load(pkl_file)\n",
    "    paths = pickle.load(pkl_file)\n",
    "    pkl_file.close()\n",
    "else:  \n",
    "    paths = {\n",
    "        \"missing_bbox\": [],\n",
    "        \"multiple_bboxes\": [],\n",
    "        \"single_bboxes\": []\n",
    "    }\n",
    "    stats = {\n",
    "        \"missing_bbox\": 0,\n",
    "        \"multiple_bboxes\": 0,\n",
    "        \"single_bboxes\": 0\n",
    "    }\n",
    "    annotations_base_path = os.path.join(ANNOTATIONS_PATH_STR, TYPE)\n",
    "    for dir1 in os.listdir(annotations_base_path):\n",
    "        dir1 = os.path.join(annotations_base_path + \"/\" + dir1)\n",
    "        for snippet_path in os.listdir(dir1):\n",
    "            snippet_path = os.path.join(dir1 + \"/\" + snippet_path)\n",
    "\n",
    "            counts = {\n",
    "                \"missing_bbox\": 0,\n",
    "                \"multiple_bboxes\": 0,\n",
    "                \"single_bboxes\": 0,\n",
    "                \"total\": 0\n",
    "            }\n",
    "\n",
    "            filepath = snippet_path\n",
    "            if filepath[-3:] != 'xml':\n",
    "                continue\n",
    "            with open(filepath) as file:\n",
    "                fobj = xmltodict.parse(file.read())\n",
    "\n",
    "            annotation = fobj['annotation']\n",
    "            if \"object\" not in annotation:\n",
    "                # no bounding boxes\n",
    "                counts[\"missing_bbox\"] += 1\n",
    "                stats[\"missing_bbox\"] += 1\n",
    "            elif isinstance(annotation[\"object\"], list):\n",
    "                # multiple objects in a frame\n",
    "                counts[\"multiple_bboxes\"] += 1\n",
    "                stats[\"multiple_bboxes\"] += 1\n",
    "            else:\n",
    "                # single object in a frame\n",
    "                counts[\"single_bboxes\"] += 1\n",
    "                stats[\"single_bboxes\"] += 1\n",
    "            counts[\"total\"] += 1\n",
    "\n",
    "        if counts[\"missing_bbox\"] > counts[\"multiple_bboxes\"] and \\\n",
    "           counts[\"missing_bbox\"] > counts[\"single_bboxes\"]:\n",
    "            # missing_bbox -> discard\n",
    "            ratio = counts[\"missing_bbox\"] / counts[\"total\"]\n",
    "            paths[\"missing_bbox\"].append((dir1, ratio))\n",
    "        elif counts[\"multiple_bboxes\"] > counts[\"missing_bbox\"] and \\\n",
    "           counts[\"multiple_bboxes\"] > counts[\"single_bboxes\"]:\n",
    "            # multiple bboxes\n",
    "            ratio = counts[\"multiple_bboxes\"] / counts[\"total\"]\n",
    "            paths[\"multiple_bboxes\"].append((dir1, ratio))\n",
    "        else:\n",
    "            # single bbox\n",
    "            ratio = counts[\"single_bboxes\"] / counts[\"total\"]\n",
    "            paths[\"single_bboxes\"].append((dir1, ratio))\n",
    "            \n",
    "    paths['all'] = [e + ('single_bboxes',) for e in paths['single_bboxes']] + \\\n",
    "       [e + ('multiple_bboxes',) for e in paths['multiple_bboxes']] + \\\n",
    "       [e + ('missing_bbox',) for e in paths['missing_bbox']]\n",
    "    \n",
    "    paths['all_but_missing'] = [e + ('single_bboxes',) for e in paths['single_bboxes']] + \\\n",
    "       [e + ('multiple_bboxes',) for e in paths['multiple_bboxes']]\n",
    "    \n",
    "    # Save into Pickle         \n",
    "    output = open(PICKLE_FPATH, 'wb')\n",
    "    pickle.dump(stats, output, -1)\n",
    "    pickle.dump(paths, output, -1)\n",
    "    output.close()"
   ]
  },
  {
   "cell_type": "code",
   "execution_count": 3,
   "metadata": {},
   "outputs": [
    {
     "data": {
      "text/plain": [
       "{'missing_bbox': 4046, 'multiple_bboxes': 53192, 'single_bboxes': 118888}"
      ]
     },
     "execution_count": 3,
     "metadata": {},
     "output_type": "execute_result"
    }
   ],
   "source": [
    "stats"
   ]
  },
  {
   "cell_type": "code",
   "execution_count": null,
   "metadata": {},
   "outputs": [],
   "source": []
  }
 ],
 "metadata": {
  "kernelspec": {
   "display_name": "Python 3",
   "language": "python",
   "name": "python3"
  },
  "language_info": {
   "codemirror_mode": {
    "name": "ipython",
    "version": 3
   },
   "file_extension": ".py",
   "mimetype": "text/x-python",
   "name": "python",
   "nbconvert_exporter": "python",
   "pygments_lexer": "ipython3",
   "version": "3.6.1"
  }
 },
 "nbformat": 4,
 "nbformat_minor": 2
}
